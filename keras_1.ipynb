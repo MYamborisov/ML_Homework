{
 "cells": [
  {
   "cell_type": "code",
   "execution_count": 1,
   "metadata": {
    "scrolled": true
   },
   "outputs": [
    {
     "name": "stdout",
     "output_type": "stream",
     "text": [
      "Collecting keras\n",
      "  Downloading Keras-2.4.3-py2.py3-none-any.whl (36 kB)\n",
      "Requirement already satisfied, skipping upgrade: pyyaml in c:\\users\\yambo\\anaconda3\\lib\\site-packages (from keras) (5.3.1)\n",
      "Requirement already satisfied, skipping upgrade: h5py in c:\\users\\yambo\\anaconda3\\lib\\site-packages (from keras) (2.10.0)\n",
      "Requirement already satisfied, skipping upgrade: scipy>=0.14 in c:\\users\\yambo\\anaconda3\\lib\\site-packages (from keras) (1.5.0)\n",
      "Requirement already satisfied, skipping upgrade: numpy>=1.9.1 in c:\\users\\yambo\\anaconda3\\lib\\site-packages (from keras) (1.18.5)\n",
      "Requirement already satisfied, skipping upgrade: six in c:\\users\\yambo\\anaconda3\\lib\\site-packages (from h5py->keras) (1.15.0)\n",
      "Installing collected packages: keras\n",
      "Successfully installed keras-2.4.3\n"
     ]
    }
   ],
   "source": [
    "! pip install -U keras"
   ]
  },
  {
   "cell_type": "code",
   "execution_count": 2,
   "metadata": {},
   "outputs": [
    {
     "name": "stdout",
     "output_type": "stream",
     "text": [
      "Collecting tensorflow\n",
      "  Downloading tensorflow-2.3.1-cp38-cp38-win_amd64.whl (342.5 MB)\n",
      "Collecting protobuf>=3.9.2\n",
      "  Downloading protobuf-3.14.0-py2.py3-none-any.whl (173 kB)\n",
      "Collecting absl-py>=0.7.0\n",
      "  Downloading absl_py-0.11.0-py3-none-any.whl (127 kB)\n",
      "Requirement already satisfied, skipping upgrade: numpy<1.19.0,>=1.16.0 in c:\\users\\yambo\\anaconda3\\lib\\site-packages (from tensorflow) (1.18.5)\n",
      "Requirement already satisfied, skipping upgrade: six>=1.12.0 in c:\\users\\yambo\\anaconda3\\lib\\site-packages (from tensorflow) (1.15.0)\n",
      "Collecting google-pasta>=0.1.8\n",
      "  Downloading google_pasta-0.2.0-py3-none-any.whl (57 kB)\n",
      "Collecting gast==0.3.3\n",
      "  Downloading gast-0.3.3-py2.py3-none-any.whl (9.7 kB)\n",
      "Collecting tensorboard<3,>=2.3.0\n",
      "  Downloading tensorboard-2.4.0-py3-none-any.whl (10.6 MB)\n",
      "Requirement already satisfied, skipping upgrade: wheel>=0.26 in c:\\users\\yambo\\anaconda3\\lib\\site-packages (from tensorflow) (0.34.2)\n",
      "Requirement already satisfied, skipping upgrade: wrapt>=1.11.1 in c:\\users\\yambo\\anaconda3\\lib\\site-packages (from tensorflow) (1.11.2)\n",
      "Collecting astunparse==1.6.3\n",
      "  Downloading astunparse-1.6.3-py2.py3-none-any.whl (12 kB)\n",
      "Collecting keras-preprocessing<1.2,>=1.1.1\n",
      "  Downloading Keras_Preprocessing-1.1.2-py2.py3-none-any.whl (42 kB)\n",
      "Collecting opt-einsum>=2.3.2\n",
      "  Downloading opt_einsum-3.3.0-py3-none-any.whl (65 kB)\n",
      "Collecting termcolor>=1.1.0\n",
      "  Downloading termcolor-1.1.0.tar.gz (3.9 kB)\n",
      "Collecting tensorflow-estimator<2.4.0,>=2.3.0\n",
      "  Downloading tensorflow_estimator-2.3.0-py2.py3-none-any.whl (459 kB)\n",
      "Requirement already satisfied, skipping upgrade: h5py<2.11.0,>=2.10.0 in c:\\users\\yambo\\anaconda3\\lib\\site-packages (from tensorflow) (2.10.0)\n",
      "Collecting grpcio>=1.8.6\n",
      "  Downloading grpcio-1.33.2-cp38-cp38-win_amd64.whl (2.7 MB)\n",
      "Requirement already satisfied, skipping upgrade: requests<3,>=2.21.0 in c:\\users\\yambo\\anaconda3\\lib\\site-packages (from tensorboard<3,>=2.3.0->tensorflow) (2.24.0)\n",
      "Requirement already satisfied, skipping upgrade: setuptools>=41.0.0 in c:\\users\\yambo\\anaconda3\\lib\\site-packages (from tensorboard<3,>=2.3.0->tensorflow) (49.2.0.post20200714)\n",
      "Collecting tensorboard-plugin-wit>=1.6.0\n",
      "  Downloading tensorboard_plugin_wit-1.7.0-py3-none-any.whl (779 kB)\n",
      "Requirement already satisfied, skipping upgrade: werkzeug>=0.11.15 in c:\\users\\yambo\\anaconda3\\lib\\site-packages (from tensorboard<3,>=2.3.0->tensorflow) (1.0.1)\n",
      "Collecting google-auth-oauthlib<0.5,>=0.4.1\n",
      "  Downloading google_auth_oauthlib-0.4.2-py2.py3-none-any.whl (18 kB)\n",
      "Collecting markdown>=2.6.8\n",
      "  Downloading Markdown-3.3.3-py3-none-any.whl (96 kB)\n",
      "Collecting google-auth<2,>=1.6.3\n",
      "  Downloading google_auth-1.23.0-py2.py3-none-any.whl (114 kB)\n",
      "Requirement already satisfied, skipping upgrade: chardet<4,>=3.0.2 in c:\\users\\yambo\\anaconda3\\lib\\site-packages (from requests<3,>=2.21.0->tensorboard<3,>=2.3.0->tensorflow) (3.0.4)\n",
      "Requirement already satisfied, skipping upgrade: urllib3!=1.25.0,!=1.25.1,<1.26,>=1.21.1 in c:\\users\\yambo\\anaconda3\\lib\\site-packages (from requests<3,>=2.21.0->tensorboard<3,>=2.3.0->tensorflow) (1.25.9)\n",
      "Requirement already satisfied, skipping upgrade: certifi>=2017.4.17 in c:\\users\\yambo\\anaconda3\\lib\\site-packages (from requests<3,>=2.21.0->tensorboard<3,>=2.3.0->tensorflow) (2020.6.20)\n",
      "Requirement already satisfied, skipping upgrade: idna<3,>=2.5 in c:\\users\\yambo\\anaconda3\\lib\\site-packages (from requests<3,>=2.21.0->tensorboard<3,>=2.3.0->tensorflow) (2.10)\n",
      "Collecting requests-oauthlib>=0.7.0\n",
      "  Downloading requests_oauthlib-1.3.0-py2.py3-none-any.whl (23 kB)\n",
      "Collecting rsa<5,>=3.1.4; python_version >= \"3.5\"\n",
      "  Downloading rsa-4.6-py3-none-any.whl (47 kB)\n",
      "Collecting cachetools<5.0,>=2.0.0\n",
      "  Downloading cachetools-4.1.1-py3-none-any.whl (10 kB)\n",
      "Collecting pyasn1-modules>=0.2.1\n",
      "  Downloading pyasn1_modules-0.2.8-py2.py3-none-any.whl (155 kB)\n",
      "Collecting oauthlib>=3.0.0\n",
      "  Downloading oauthlib-3.1.0-py2.py3-none-any.whl (147 kB)\n",
      "Collecting pyasn1>=0.1.3\n",
      "  Downloading pyasn1-0.4.8-py2.py3-none-any.whl (77 kB)\n",
      "Building wheels for collected packages: termcolor\n",
      "  Building wheel for termcolor (setup.py): started\n",
      "  Building wheel for termcolor (setup.py): finished with status 'done'\n",
      "  Created wheel for termcolor: filename=termcolor-1.1.0-py3-none-any.whl size=4835 sha256=d41985ed1b5cb0331ee2d5ddde0ccd9cca29e1abc64ea75b4883be19c68e53c8\n",
      "  Stored in directory: c:\\users\\yambo\\appdata\\local\\pip\\cache\\wheels\\a0\\16\\9c\\5473df82468f958445479c59e784896fa24f4a5fc024b0f501\n",
      "Successfully built termcolor\n",
      "Installing collected packages: protobuf, absl-py, google-pasta, gast, tensorboard-plugin-wit, oauthlib, requests-oauthlib, pyasn1, rsa, cachetools, pyasn1-modules, google-auth, google-auth-oauthlib, grpcio, markdown, tensorboard, astunparse, keras-preprocessing, opt-einsum, termcolor, tensorflow-estimator, tensorflow\n",
      "Successfully installed absl-py-0.11.0 astunparse-1.6.3 cachetools-4.1.1 gast-0.3.3 google-auth-1.23.0 google-auth-oauthlib-0.4.2 google-pasta-0.2.0 grpcio-1.33.2 keras-preprocessing-1.1.2 markdown-3.3.3 oauthlib-3.1.0 opt-einsum-3.3.0 protobuf-3.14.0 pyasn1-0.4.8 pyasn1-modules-0.2.8 requests-oauthlib-1.3.0 rsa-4.6 tensorboard-2.4.0 tensorboard-plugin-wit-1.7.0 tensorflow-2.3.1 tensorflow-estimator-2.3.0 termcolor-1.1.0\n"
     ]
    }
   ],
   "source": [
    "! pip install -U tensorflow"
   ]
  },
  {
   "cell_type": "code",
   "execution_count": 3,
   "metadata": {
    "scrolled": true
   },
   "outputs": [
    {
     "name": "stdout",
     "output_type": "stream",
     "text": [
      "Downloading data from https://storage.googleapis.com/tensorflow/tf-keras-datasets/mnist.npz\n",
      "11493376/11490434 [==============================] - 2s 0us/step\n",
      "(50000, 28, 28) (50000,)\n"
     ]
    },
    {
     "data": {
      "image/png": "[encoded data removed]",
      "text/plain": [
       "<Figure size 432x288 with 1 Axes>"
      ]
     },
     "metadata": {
      "needs_background": "light"
     },
     "output_type": "display_data"
    }
   ],
   "source": [
    "import keras\n",
    "from sklearn.preprocessing import LabelBinarizer\n",
    "import matplotlib.pyplot as plt\n",
    "\n",
    "%matplotlib inline\n",
    "\n",
    "def load_dataset(flatten=False):\n",
    "    (X_train, y_train), (X_test, y_test) = keras.datasets.mnist.load_data()\n",
    "    # normalize x\n",
    "    X_train = X_train.astype(float) / 255.\n",
    "    X_test = X_test.astype(float) / 255.\n",
    "    \n",
    "    # Оставим 10000 примеров на валидацию\n",
    "    X_train, X_val = X_train[:-10000], X_train[-10000:]\n",
    "    y_train, y_val = y_train[:-10000], y_train[-10000:]\n",
    "    if flatten:\n",
    "        X_train = X_train.reshape([X_train.shape[0], -1])\n",
    "        X_val = X_val.reshape([X_val.shape[0], -1])\n",
    "        X_test = X_test.reshape([X_test.shape[0], -1])\n",
    "    return X_train, y_train, X_val, y_val, X_test, y_test\n",
    "\n",
    "\n",
    "X_train, y_train, X_val, y_val, X_test, y_test = load_dataset()\n",
    "## Размеры\n",
    "print(X_train.shape, y_train.shape)\n",
    "## Нарисуем пример\n",
    "plt.imshow(X_train[0], cmap=\"Greys\");"
   ]
  },
  {
   "cell_type": "code",
   "execution_count": 4,
   "metadata": {},
   "outputs": [
    {
     "name": "stdout",
     "output_type": "stream",
     "text": [
      "Train dimension:\n",
      "(50000, 784)\n",
      "Test dimension:\n",
      "(10000, 784)\n",
      "Train labels dimension:\n",
      "(50000, 10)\n",
      "Test labels dimension:\n",
      "(10000, 10)\n"
     ]
    }
   ],
   "source": [
    "## Сделаем объекты плоскими N*28*28 to  N*784\n",
    "\n",
    "X_train = X_train.reshape((X_train.shape[0],X_train.shape[1]*X_train.shape[2]))\n",
    "X_test = X_test.reshape((X_test.shape[0],X_test.shape[1]*X_test.shape[2]))\n",
    "\n",
    "print('Train dimension:');print(X_train.shape)\n",
    "print('Test dimension:');print(X_test.shape)\n",
    "\n",
    "## Лейблы нужно сделать One-Hot\n",
    "lb = LabelBinarizer()\n",
    "y_train = lb.fit_transform(y_train)\n",
    "y_test = lb.transform(y_test)\n",
    "print('Train labels dimension:');print(y_train.shape)\n",
    "print('Test labels dimension:');print(y_test.shape)"
   ]
  },
  {
   "cell_type": "code",
   "execution_count": 5,
   "metadata": {},
   "outputs": [],
   "source": [
    "from keras.models import Sequential\n",
    "from keras.layers import Dense\n",
    "\n",
    "model = Sequential()\n",
    "model.add(Dense(14, input_dim=X_train.shape[1], activation='relu'))\n",
    "model.add(Dense(12, activation='relu'))\n",
    "model.add(Dense(y_train.shape[1], activation='softmax'))"
   ]
  },
  {
   "cell_type": "code",
   "execution_count": 16,
   "metadata": {},
   "outputs": [],
   "source": [
    "model.compile(loss='mean_squared_error', optimizer='SGD', \n",
    "              metrics=['mean_squared_error'])"
   ]
  },
  {
   "cell_type": "code",
   "execution_count": 17,
   "metadata": {},
   "outputs": [
    {
     "name": "stdout",
     "output_type": "stream",
     "text": [
      "Epoch 1/10\n",
      "5000/5000 [==============================] - 4s 758us/step - loss: 0.0035 - mean_squared_error: 0.0035 - val_loss: 0.0072 - val_mean_squared_error: 0.0072\n",
      "Epoch 2/10\n",
      "5000/5000 [==============================] - 4s 782us/step - loss: 0.0034 - mean_squared_error: 0.0034 - val_loss: 0.0071 - val_mean_squared_error: 0.0071\n",
      "Epoch 3/10\n",
      "5000/5000 [==============================] - 4s 795us/step - loss: 0.0033 - mean_squared_error: 0.0033 - val_loss: 0.0071 - val_mean_squared_error: 0.0071\n",
      "Epoch 4/10\n",
      "5000/5000 [==============================] - 4s 791us/step - loss: 0.0033 - mean_squared_error: 0.0033 - val_loss: 0.0071 - val_mean_squared_error: 0.0071\n",
      "Epoch 5/10\n",
      "5000/5000 [==============================] - 4s 781us/step - loss: 0.0032 - mean_squared_error: 0.0032 - val_loss: 0.0071 - val_mean_squared_error: 0.0071\n",
      "Epoch 6/10\n",
      "5000/5000 [==============================] - 4s 787us/step - loss: 0.0032 - mean_squared_error: 0.0032 - val_loss: 0.0071 - val_mean_squared_error: 0.0071\n",
      "Epoch 7/10\n",
      "5000/5000 [==============================] - 4s 763us/step - loss: 0.0032 - mean_squared_error: 0.0032 - val_loss: 0.0071 - val_mean_squared_error: 0.0071\n",
      "Epoch 8/10\n",
      "5000/5000 [==============================] - 4s 809us/step - loss: 0.0032 - mean_squared_error: 0.0032 - val_loss: 0.0070 - val_mean_squared_error: 0.0070\n",
      "Epoch 9/10\n",
      "5000/5000 [==============================] - 4s 766us/step - loss: 0.0032 - mean_squared_error: 0.0032 - val_loss: 0.0071 - val_mean_squared_error: 0.0071\n",
      "Epoch 10/10\n",
      "5000/5000 [==============================] - 4s 789us/step - loss: 0.0032 - mean_squared_error: 0.0032 - val_loss: 0.0071 - val_mean_squared_error: 0.0071\n"
     ]
    },
    {
     "data": {
      "text/plain": [
       "<tensorflow.python.keras.callbacks.History at 0x16ebacb80a0>"
      ]
     },
     "execution_count": 17,
     "metadata": {},
     "output_type": "execute_result"
    }
   ],
   "source": [
    "model.fit(X_train, y_train, epochs=10, batch_size=10, \n",
    "          validation_data=(X_test, y_test))"
   ]
  },
  {
   "cell_type": "markdown",
   "metadata": {},
   "source": [
    "# Задание\n",
    "1. Выбрать верный loss\n",
    "2. Добавить accuracy как оценку качества\n",
    "3. Исследовать изменение качества при\n",
    "        3.1. Изменении числа слоев\n",
    "        3.2. Изменении числа нейронов\n",
    "        3.3. Изменение функции активации\n",
    "3. Исследовать параметры SGD, сделать выводы\n",
    "\n",
    "```\n",
    "tf.keras.optimizers.SGD(\n",
    "    learning_rate=0.01, momentum=0.0, nesterov=False, name=\"SGD\", **kwargs\n",
    ")\n",
    "```"
   ]
  },
  {
   "cell_type": "markdown",
   "metadata": {},
   "source": [
    "## Поставим accuracy и изменим лосс на categorical_crossentropy, так так mean_square_error подходит для задач регрессии, а не многоклассовой классификации"
   ]
  },
  {
   "cell_type": "code",
   "execution_count": 27,
   "metadata": {},
   "outputs": [
    {
     "name": "stdout",
     "output_type": "stream",
     "text": [
      "Epoch 1/10\n",
      "5000/5000 [==============================] - 4s 863us/step - loss: 0.6232 - accuracy: 0.8112 - val_loss: 0.3301 - val_accuracy: 0.9064\n",
      "Epoch 2/10\n",
      "5000/5000 [==============================] - 4s 745us/step - loss: 0.3168 - accuracy: 0.9080 - val_loss: 0.2815 - val_accuracy: 0.9186\n",
      "Epoch 3/10\n",
      "5000/5000 [==============================] - 4s 771us/step - loss: 0.2730 - accuracy: 0.9203 - val_loss: 0.2581 - val_accuracy: 0.9273\n",
      "Epoch 4/10\n",
      "5000/5000 [==============================] - 4s 780us/step - loss: 0.2459 - accuracy: 0.9292 - val_loss: 0.2294 - val_accuracy: 0.9333\n",
      "Epoch 5/10\n",
      "5000/5000 [==============================] - 4s 760us/step - loss: 0.2267 - accuracy: 0.9339 - val_loss: 0.2168 - val_accuracy: 0.9381\n",
      "Epoch 6/10\n",
      "5000/5000 [==============================] - 4s 820us/step - loss: 0.2119 - accuracy: 0.9383 - val_loss: 0.2162 - val_accuracy: 0.9371\n",
      "Epoch 7/10\n",
      "5000/5000 [==============================] - 4s 811us/step - loss: 0.2021 - accuracy: 0.9414 - val_loss: 0.2189 - val_accuracy: 0.9342\n",
      "Epoch 8/10\n",
      "5000/5000 [==============================] - 4s 795us/step - loss: 0.1918 - accuracy: 0.9442 - val_loss: 0.1969 - val_accuracy: 0.9421\n",
      "Epoch 9/10\n",
      "5000/5000 [==============================] - 4s 806us/step - loss: 0.1851 - accuracy: 0.9461 - val_loss: 0.1876 - val_accuracy: 0.9453\n",
      "Epoch 10/10\n",
      "5000/5000 [==============================] - 4s 791us/step - loss: 0.1787 - accuracy: 0.9480 - val_loss: 0.1938 - val_accuracy: 0.9443\n"
     ]
    },
    {
     "data": {
      "text/plain": [
       "<tensorflow.python.keras.callbacks.History at 0x16eb87f1a30>"
      ]
     },
     "execution_count": 27,
     "metadata": {},
     "output_type": "execute_result"
    }
   ],
   "source": [
    "model = Sequential()\n",
    "model.add(Dense(14, input_dim=X_train.shape[1], activation='relu'))\n",
    "model.add(Dense(12, activation='relu'))\n",
    "model.add(Dense(y_train.shape[1], activation='softmax'))\n",
    "\n",
    "model.compile(loss='categorical_crossentropy', optimizer='SGD', \n",
    "              metrics=['accuracy'])\n",
    "\n",
    "model.fit(X_train, y_train, epochs=10, batch_size=10, \n",
    "          validation_data=(X_test, y_test))"
   ]
  },
  {
   "cell_type": "markdown",
   "metadata": {},
   "source": [
    "## Изменим число слоев"
   ]
  },
  {
   "cell_type": "code",
   "execution_count": 26,
   "metadata": {},
   "outputs": [
    {
     "name": "stdout",
     "output_type": "stream",
     "text": [
      "Epoch 1/10\n",
      "5000/5000 [==============================] - 4s 839us/step - loss: 0.7173 - accuracy: 0.7723 - val_loss: 0.3269 - val_accuracy: 0.9069\n",
      "Epoch 2/10\n",
      "5000/5000 [==============================] - 4s 839us/step - loss: 0.3034 - accuracy: 0.9126 - val_loss: 0.2735 - val_accuracy: 0.9166\n",
      "Epoch 3/10\n",
      "5000/5000 [==============================] - 4s 812us/step - loss: 0.2376 - accuracy: 0.9307 - val_loss: 0.2346 - val_accuracy: 0.9302\n",
      "Epoch 4/10\n",
      "5000/5000 [==============================] - 4s 822us/step - loss: 0.2093 - accuracy: 0.9381 - val_loss: 0.2217 - val_accuracy: 0.9318\n",
      "Epoch 5/10\n",
      "5000/5000 [==============================] - 4s 819us/step - loss: 0.1913 - accuracy: 0.9424 - val_loss: 0.1947 - val_accuracy: 0.9419\n",
      "Epoch 6/10\n",
      "5000/5000 [==============================] - 4s 810us/step - loss: 0.1780 - accuracy: 0.9476 - val_loss: 0.1902 - val_accuracy: 0.9433\n",
      "Epoch 7/10\n",
      "5000/5000 [==============================] - 4s 825us/step - loss: 0.1696 - accuracy: 0.9491 - val_loss: 0.1966 - val_accuracy: 0.9405\n",
      "Epoch 8/10\n",
      "5000/5000 [==============================] - 4s 787us/step - loss: 0.1612 - accuracy: 0.9521 - val_loss: 0.1779 - val_accuracy: 0.9470\n",
      "Epoch 9/10\n",
      "5000/5000 [==============================] - 4s 819us/step - loss: 0.1567 - accuracy: 0.9533 - val_loss: 0.1836 - val_accuracy: 0.9445\n",
      "Epoch 10/10\n",
      "5000/5000 [==============================] - 4s 810us/step - loss: 0.1497 - accuracy: 0.9554 - val_loss: 0.1923 - val_accuracy: 0.9421\n"
     ]
    },
    {
     "data": {
      "text/plain": [
       "<tensorflow.python.keras.callbacks.History at 0x16eb56842e0>"
      ]
     },
     "execution_count": 26,
     "metadata": {},
     "output_type": "execute_result"
    }
   ],
   "source": [
    "model = Sequential()\n",
    "model.add(Dense(14, input_dim=X_train.shape[1], activation='relu'))\n",
    "model.add(Dense(12, activation='relu'))\n",
    "model.add(Dense(12, activation='relu'))\n",
    "model.add(Dense(y_train.shape[1], activation='softmax'))\n",
    "\n",
    "model.compile(loss='categorical_crossentropy', optimizer='SGD', \n",
    "              metrics=['accuracy'])\n",
    "\n",
    "model.fit(X_train, y_train, epochs=10, batch_size=10, \n",
    "          validation_data=(X_test, y_test))"
   ]
  },
  {
   "cell_type": "code",
   "execution_count": 30,
   "metadata": {},
   "outputs": [
    {
     "name": "stdout",
     "output_type": "stream",
     "text": [
      "Epoch 1/10\n",
      "5000/5000 [==============================] - 4s 868us/step - loss: 0.7384 - accuracy: 0.7668 - val_loss: 0.3562 - val_accuracy: 0.8888\n",
      "Epoch 2/10\n",
      "5000/5000 [==============================] - 4s 865us/step - loss: 0.3221 - accuracy: 0.9043 - val_loss: 0.2721 - val_accuracy: 0.9206\n",
      "Epoch 3/10\n",
      "5000/5000 [==============================] - 4s 799us/step - loss: 0.2573 - accuracy: 0.9235 - val_loss: 0.2299 - val_accuracy: 0.9336\n",
      "Epoch 4/10\n",
      "5000/5000 [==============================] - 4s 823us/step - loss: 0.2224 - accuracy: 0.9326 - val_loss: 0.2074 - val_accuracy: 0.9380\n",
      "Epoch 5/10\n",
      "5000/5000 [==============================] - 4s 769us/step - loss: 0.1980 - accuracy: 0.9405 - val_loss: 0.1918 - val_accuracy: 0.9442\n",
      "Epoch 6/10\n",
      "5000/5000 [==============================] - 4s 829us/step - loss: 0.1844 - accuracy: 0.9449 - val_loss: 0.1838 - val_accuracy: 0.9454\n",
      "Epoch 7/10\n",
      "5000/5000 [==============================] - 4s 830us/step - loss: 0.1726 - accuracy: 0.9485 - val_loss: 0.1915 - val_accuracy: 0.9433\n",
      "Epoch 8/10\n",
      "5000/5000 [==============================] - 4s 817us/step - loss: 0.1629 - accuracy: 0.9510 - val_loss: 0.1769 - val_accuracy: 0.9462\n",
      "Epoch 9/10\n",
      "5000/5000 [==============================] - 4s 829us/step - loss: 0.1582 - accuracy: 0.9515 - val_loss: 0.1789 - val_accuracy: 0.9441\n",
      "Epoch 10/10\n",
      "5000/5000 [==============================] - 4s 805us/step - loss: 0.1514 - accuracy: 0.9541 - val_loss: 0.1622 - val_accuracy: 0.9483\n"
     ]
    },
    {
     "data": {
      "text/plain": [
       "<tensorflow.python.keras.callbacks.History at 0x16eb17df7c0>"
      ]
     },
     "execution_count": 30,
     "metadata": {},
     "output_type": "execute_result"
    }
   ],
   "source": [
    "model = Sequential()\n",
    "model.add(Dense(14, input_dim=X_train.shape[1], activation='relu'))\n",
    "model.add(Dense(20, activation='relu'))\n",
    "model.add(Dense(20, activation='relu'))\n",
    "model.add(Dense(y_train.shape[1], activation='softmax'))\n",
    "\n",
    "model.compile(loss='categorical_crossentropy', optimizer='SGD', \n",
    "              metrics=['accuracy'])\n",
    "\n",
    "model.fit(X_train, y_train, epochs=10, batch_size=10, \n",
    "          validation_data=(X_test, y_test))"
   ]
  },
  {
   "cell_type": "code",
   "execution_count": 31,
   "metadata": {},
   "outputs": [
    {
     "name": "stdout",
     "output_type": "stream",
     "text": [
      "Epoch 1/10\n",
      "5000/5000 [==============================] - 4s 852us/step - loss: 0.5795 - accuracy: 0.8229 - val_loss: 0.3233 - val_accuracy: 0.9016\n",
      "Epoch 2/10\n",
      "5000/5000 [==============================] - 4s 832us/step - loss: 0.2851 - accuracy: 0.9170 - val_loss: 0.2402 - val_accuracy: 0.9298\n",
      "Epoch 3/10\n",
      "5000/5000 [==============================] - 4s 833us/step - loss: 0.2323 - accuracy: 0.9306 - val_loss: 0.2090 - val_accuracy: 0.9397\n",
      "Epoch 4/10\n",
      "5000/5000 [==============================] - 4s 821us/step - loss: 0.1996 - accuracy: 0.9409 - val_loss: 0.1874 - val_accuracy: 0.9422\n",
      "Epoch 5/10\n",
      "5000/5000 [==============================] - 4s 826us/step - loss: 0.1769 - accuracy: 0.9465 - val_loss: 0.1759 - val_accuracy: 0.9485\n",
      "Epoch 6/10\n",
      "5000/5000 [==============================] - 4s 844us/step - loss: 0.1617 - accuracy: 0.9516 - val_loss: 0.1738 - val_accuracy: 0.9478\n",
      "Epoch 7/10\n",
      "5000/5000 [==============================] - 4s 816us/step - loss: 0.1493 - accuracy: 0.9543 - val_loss: 0.1667 - val_accuracy: 0.9510\n",
      "Epoch 8/10\n",
      "5000/5000 [==============================] - 4s 838us/step - loss: 0.1398 - accuracy: 0.9583 - val_loss: 0.1710 - val_accuracy: 0.9485\n",
      "Epoch 9/10\n",
      "5000/5000 [==============================] - 4s 834us/step - loss: 0.1334 - accuracy: 0.9592 - val_loss: 0.1490 - val_accuracy: 0.9534\n",
      "Epoch 10/10\n",
      "5000/5000 [==============================] - 4s 843us/step - loss: 0.1253 - accuracy: 0.9616 - val_loss: 0.1551 - val_accuracy: 0.9542\n"
     ]
    },
    {
     "data": {
      "text/plain": [
       "<tensorflow.python.keras.callbacks.History at 0x16eb1b84400>"
      ]
     },
     "execution_count": 31,
     "metadata": {},
     "output_type": "execute_result"
    }
   ],
   "source": [
    "model = Sequential()\n",
    "model.add(Dense(14, input_dim=X_train.shape[1], activation='relu'))\n",
    "model.add(Dense(50, activation='relu'))\n",
    "model.add(Dense(50, activation='relu'))\n",
    "model.add(Dense(y_train.shape[1], activation='softmax'))\n",
    "\n",
    "model.compile(loss='categorical_crossentropy', optimizer='SGD', \n",
    "              metrics=['accuracy'])\n",
    "\n",
    "model.fit(X_train, y_train, epochs=10, batch_size=10, \n",
    "          validation_data=(X_test, y_test))"
   ]
  },
  {
   "cell_type": "code",
   "execution_count": 33,
   "metadata": {},
   "outputs": [
    {
     "name": "stdout",
     "output_type": "stream",
     "text": [
      "Epoch 1/10\n",
      "5000/5000 [==============================] - 4s 856us/step - loss: 0.5513 - accuracy: 0.8333 - val_loss: 0.2936 - val_accuracy: 0.9129\n",
      "Epoch 2/10\n",
      "5000/5000 [==============================] - 4s 831us/step - loss: 0.2683 - accuracy: 0.9203 - val_loss: 0.2217 - val_accuracy: 0.9356\n",
      "Epoch 3/10\n",
      "5000/5000 [==============================] - 4s 861us/step - loss: 0.2177 - accuracy: 0.9339 - val_loss: 0.1972 - val_accuracy: 0.9417\n",
      "Epoch 4/10\n",
      "5000/5000 [==============================] - 4s 861us/step - loss: 0.1851 - accuracy: 0.9437 - val_loss: 0.1785 - val_accuracy: 0.9456\n",
      "Epoch 5/10\n",
      "5000/5000 [==============================] - 4s 849us/step - loss: 0.1642 - accuracy: 0.9492 - val_loss: 0.1642 - val_accuracy: 0.9500\n",
      "Epoch 6/10\n",
      "5000/5000 [==============================] - 4s 861us/step - loss: 0.1489 - accuracy: 0.9541 - val_loss: 0.1571 - val_accuracy: 0.9531\n",
      "Epoch 7/10\n",
      "5000/5000 [==============================] - 4s 838us/step - loss: 0.1351 - accuracy: 0.9583 - val_loss: 0.1633 - val_accuracy: 0.9482\n",
      "Epoch 8/10\n",
      "5000/5000 [==============================] - 4s 871us/step - loss: 0.1247 - accuracy: 0.9608 - val_loss: 0.1687 - val_accuracy: 0.9492\n",
      "Epoch 9/10\n",
      "5000/5000 [==============================] - 4s 851us/step - loss: 0.1168 - accuracy: 0.9628 - val_loss: 0.1528 - val_accuracy: 0.9526\n",
      "Epoch 10/10\n",
      "5000/5000 [==============================] - 5s 1ms/step - loss: 0.1098 - accuracy: 0.9658 - val_loss: 0.1300 - val_accuracy: 0.9605\n"
     ]
    },
    {
     "data": {
      "text/plain": [
       "<tensorflow.python.keras.callbacks.History at 0x16eb8cdea90>"
      ]
     },
     "execution_count": 33,
     "metadata": {},
     "output_type": "execute_result"
    }
   ],
   "source": [
    "model = Sequential()\n",
    "model.add(Dense(14, input_dim=X_train.shape[1], activation='relu'))\n",
    "model.add(Dense(100, activation='relu'))\n",
    "model.add(Dense(100, activation='relu'))\n",
    "model.add(Dense(y_train.shape[1], activation='softmax'))\n",
    "\n",
    "model.compile(loss='categorical_crossentropy', optimizer='SGD', \n",
    "              metrics=['accuracy'])\n",
    "\n",
    "model.fit(X_train, y_train, epochs=10, batch_size=10, \n",
    "          validation_data=(X_test, y_test))"
   ]
  },
  {
   "cell_type": "code",
   "execution_count": 35,
   "metadata": {},
   "outputs": [
    {
     "name": "stdout",
     "output_type": "stream",
     "text": [
      "Epoch 1/10\n",
      "5000/5000 [==============================] - 5s 987us/step - loss: 2.3030 - accuracy: 0.1147 - val_loss: 2.2920 - val_accuracy: 0.2425\n",
      "Epoch 2/10\n",
      "5000/5000 [==============================] - 4s 758us/step - loss: 2.2731 - accuracy: 0.1700 - val_loss: 2.2219 - val_accuracy: 0.2609\n",
      "Epoch 3/10\n",
      "5000/5000 [==============================] - 4s 713us/step - loss: 1.9219 - accuracy: 0.4088 - val_loss: 1.4469 - val_accuracy: 0.5304\n",
      "Epoch 4/10\n",
      "5000/5000 [==============================] - 4s 868us/step - loss: 1.2052 - accuracy: 0.6106 - val_loss: 1.0119 - val_accuracy: 0.6614\n",
      "Epoch 5/10\n",
      "5000/5000 [==============================] - 4s 878us/step - loss: 0.8976 - accuracy: 0.7256 - val_loss: 0.7780 - val_accuracy: 0.7800\n",
      "Epoch 6/10\n",
      "5000/5000 [==============================] - 4s 885us/step - loss: 0.6993 - accuracy: 0.8094 - val_loss: 0.6092 - val_accuracy: 0.8383\n",
      "Epoch 7/10\n",
      "5000/5000 [==============================] - 4s 844us/step - loss: 0.5659 - accuracy: 0.8530 - val_loss: 0.5135 - val_accuracy: 0.8707\n",
      "Epoch 8/10\n",
      "5000/5000 [==============================] - 4s 860us/step - loss: 0.4872 - accuracy: 0.8728 - val_loss: 0.4535 - val_accuracy: 0.8800\n",
      "Epoch 9/10\n",
      "5000/5000 [==============================] - 4s 861us/step - loss: 0.4362 - accuracy: 0.8846 - val_loss: 0.4133 - val_accuracy: 0.8913\n",
      "Epoch 10/10\n",
      "5000/5000 [==============================] - 4s 880us/step - loss: 0.4008 - accuracy: 0.8925 - val_loss: 0.3877 - val_accuracy: 0.8967\n"
     ]
    },
    {
     "data": {
      "text/plain": [
       "<tensorflow.python.keras.callbacks.History at 0x16eb352e220>"
      ]
     },
     "execution_count": 35,
     "metadata": {},
     "output_type": "execute_result"
    }
   ],
   "source": [
    "model = Sequential()\n",
    "model.add(Dense(14, input_dim=X_train.shape[1], activation='sigmoid'))\n",
    "model.add(Dense(100, activation='sigmoid'))\n",
    "model.add(Dense(100, activation='sigmoid'))\n",
    "model.add(Dense(y_train.shape[1], activation='softmax'))\n",
    "\n",
    "model.compile(loss='categorical_crossentropy', optimizer='SGD', \n",
    "              metrics=['accuracy'])\n",
    "\n",
    "model.fit(X_train, y_train, epochs=10, batch_size=10, \n",
    "          validation_data=(X_test, y_test))"
   ]
  },
  {
   "cell_type": "code",
   "execution_count": 36,
   "metadata": {},
   "outputs": [
    {
     "name": "stdout",
     "output_type": "stream",
     "text": [
      "Epoch 1/10\n",
      "5000/5000 [==============================] - 4s 869us/step - loss: 0.4936 - accuracy: 0.8612 - val_loss: 0.2730 - val_accuracy: 0.9228\n",
      "Epoch 2/10\n",
      "5000/5000 [==============================] - 4s 876us/step - loss: 0.2563 - accuracy: 0.9236 - val_loss: 0.2355 - val_accuracy: 0.9311\n",
      "Epoch 3/10\n",
      "5000/5000 [==============================] - 5s 902us/step - loss: 0.2185 - accuracy: 0.9342 - val_loss: 0.2130 - val_accuracy: 0.9357\n",
      "Epoch 4/10\n",
      "5000/5000 [==============================] - 4s 896us/step - loss: 0.1994 - accuracy: 0.9407 - val_loss: 0.1889 - val_accuracy: 0.9420\n",
      "Epoch 5/10\n",
      "5000/5000 [==============================] - 5s 905us/step - loss: 0.1834 - accuracy: 0.9457 - val_loss: 0.2013 - val_accuracy: 0.9395\n",
      "Epoch 6/10\n",
      "5000/5000 [==============================] - 5s 903us/step - loss: 0.1725 - accuracy: 0.9481 - val_loss: 0.1797 - val_accuracy: 0.9440\n",
      "Epoch 7/10\n",
      "5000/5000 [==============================] - 4s 807us/step - loss: 0.1629 - accuracy: 0.9510 - val_loss: 0.1813 - val_accuracy: 0.9467\n",
      "Epoch 8/10\n",
      "5000/5000 [==============================] - 4s 813us/step - loss: 0.1558 - accuracy: 0.9522 - val_loss: 0.1750 - val_accuracy: 0.9476\n",
      "Epoch 9/10\n",
      "5000/5000 [==============================] - 4s 876us/step - loss: 0.1490 - accuracy: 0.9547 - val_loss: 0.1736 - val_accuracy: 0.9465\n",
      "Epoch 10/10\n",
      "5000/5000 [==============================] - 4s 880us/step - loss: 0.1431 - accuracy: 0.9564 - val_loss: 0.1728 - val_accuracy: 0.9475\n"
     ]
    },
    {
     "data": {
      "text/plain": [
       "<tensorflow.python.keras.callbacks.History at 0x16eb914fa60>"
      ]
     },
     "execution_count": 36,
     "metadata": {},
     "output_type": "execute_result"
    }
   ],
   "source": [
    "model = Sequential()\n",
    "model.add(Dense(14, input_dim=X_train.shape[1], activation='tanh'))\n",
    "model.add(Dense(100, activation='tanh'))\n",
    "model.add(Dense(100, activation='tanh'))\n",
    "model.add(Dense(y_train.shape[1], activation='softmax'))\n",
    "\n",
    "model.compile(loss='categorical_crossentropy', optimizer='SGD', \n",
    "              metrics=['accuracy'])\n",
    "\n",
    "model.fit(X_train, y_train, epochs=10, batch_size=10, \n",
    "          validation_data=(X_test, y_test))"
   ]
  },
  {
   "cell_type": "code",
   "execution_count": 37,
   "metadata": {},
   "outputs": [
    {
     "name": "stdout",
     "output_type": "stream",
     "text": [
      "Epoch 1/10\n",
      "5000/5000 [==============================] - 4s 876us/step - loss: 0.4592 - accuracy: 0.8669 - val_loss: 0.2700 - val_accuracy: 0.9213\n",
      "Epoch 2/10\n",
      "5000/5000 [==============================] - 5s 910us/step - loss: 0.2466 - accuracy: 0.9256 - val_loss: 0.2148 - val_accuracy: 0.9354\n",
      "Epoch 3/10\n",
      "5000/5000 [==============================] - 5s 928us/step - loss: 0.2002 - accuracy: 0.9389 - val_loss: 0.1823 - val_accuracy: 0.9448\n",
      "Epoch 4/10\n",
      "5000/5000 [==============================] - 4s 790us/step - loss: 0.1732 - accuracy: 0.9479 - val_loss: 0.1603 - val_accuracy: 0.9516\n",
      "Epoch 5/10\n",
      "5000/5000 [==============================] - 4s 868us/step - loss: 0.1561 - accuracy: 0.9528 - val_loss: 0.1652 - val_accuracy: 0.9500\n",
      "Epoch 6/10\n",
      "5000/5000 [==============================] - 4s 888us/step - loss: 0.1442 - accuracy: 0.9563 - val_loss: 0.1483 - val_accuracy: 0.9541\n",
      "Epoch 7/10\n",
      "5000/5000 [==============================] - 4s 861us/step - loss: 0.1341 - accuracy: 0.9596 - val_loss: 0.1439 - val_accuracy: 0.9566\n",
      "Epoch 8/10\n",
      "5000/5000 [==============================] - 4s 867us/step - loss: 0.1262 - accuracy: 0.9605 - val_loss: 0.1443 - val_accuracy: 0.9565\n",
      "Epoch 9/10\n",
      "5000/5000 [==============================] - 4s 877us/step - loss: 0.1186 - accuracy: 0.9636 - val_loss: 0.1435 - val_accuracy: 0.9559\n",
      "Epoch 10/10\n",
      "5000/5000 [==============================] - 5s 925us/step - loss: 0.1127 - accuracy: 0.9652 - val_loss: 0.1501 - val_accuracy: 0.9546\n"
     ]
    },
    {
     "data": {
      "text/plain": [
       "<tensorflow.python.keras.callbacks.History at 0x16eb9602670>"
      ]
     },
     "execution_count": 37,
     "metadata": {},
     "output_type": "execute_result"
    }
   ],
   "source": [
    "model = Sequential()\n",
    "model.add(Dense(14, input_dim=X_train.shape[1], activation='elu'))\n",
    "model.add(Dense(100, activation='elu'))\n",
    "model.add(Dense(100, activation='elu'))\n",
    "model.add(Dense(y_train.shape[1], activation='softmax'))\n",
    "\n",
    "model.compile(loss='categorical_crossentropy', optimizer='SGD', \n",
    "              metrics=['accuracy'])\n",
    "\n",
    "model.fit(X_train, y_train, epochs=10, batch_size=10, \n",
    "          validation_data=(X_test, y_test))"
   ]
  },
  {
   "cell_type": "markdown",
   "metadata": {},
   "source": [
    "## Исследуем параметры SGD"
   ]
  },
  {
   "cell_type": "code",
   "execution_count": 53,
   "metadata": {},
   "outputs": [],
   "source": [
    "import tensorflow as tf\n",
    "\n",
    "opt=tf.keras.optimizers.SGD(\n",
    "    learning_rate=0.01, momentum=0.0, nesterov=False, name=\"SGD\"\n",
    ")"
   ]
  },
  {
   "cell_type": "code",
   "execution_count": 54,
   "metadata": {},
   "outputs": [
    {
     "name": "stdout",
     "output_type": "stream",
     "text": [
      "Epoch 1/10\n",
      "5000/5000 [==============================] - 5s 917us/step - loss: 0.4914 - accuracy: 0.8625 - val_loss: 0.2667 - val_accuracy: 0.9251\n",
      "Epoch 2/10\n",
      "5000/5000 [==============================] - 4s 839us/step - loss: 0.2554 - accuracy: 0.9255 - val_loss: 0.2296 - val_accuracy: 0.9335\n",
      "Epoch 3/10\n",
      "5000/5000 [==============================] - 4s 852us/step - loss: 0.2148 - accuracy: 0.9360 - val_loss: 0.1976 - val_accuracy: 0.9412\n",
      "Epoch 4/10\n",
      "5000/5000 [==============================] - 4s 859us/step - loss: 0.1918 - accuracy: 0.9433 - val_loss: 0.1955 - val_accuracy: 0.9416\n",
      "Epoch 5/10\n",
      "5000/5000 [==============================] - 4s 851us/step - loss: 0.1764 - accuracy: 0.9479 - val_loss: 0.1875 - val_accuracy: 0.9441\n",
      "Epoch 6/10\n",
      "5000/5000 [==============================] - 4s 863us/step - loss: 0.1654 - accuracy: 0.9511 - val_loss: 0.1789 - val_accuracy: 0.9450\n",
      "Epoch 7/10\n",
      "5000/5000 [==============================] - 4s 864us/step - loss: 0.1565 - accuracy: 0.9529 - val_loss: 0.1764 - val_accuracy: 0.9464\n",
      "Epoch 8/10\n",
      "5000/5000 [==============================] - 4s 846us/step - loss: 0.1497 - accuracy: 0.9549 - val_loss: 0.1642 - val_accuracy: 0.9497\n",
      "Epoch 9/10\n",
      "5000/5000 [==============================] - 4s 889us/step - loss: 0.1436 - accuracy: 0.9562 - val_loss: 0.1667 - val_accuracy: 0.9502\n",
      "Epoch 10/10\n",
      "5000/5000 [==============================] - 4s 867us/step - loss: 0.1376 - accuracy: 0.9586 - val_loss: 0.1676 - val_accuracy: 0.9502\n"
     ]
    },
    {
     "data": {
      "text/plain": [
       "<tensorflow.python.keras.callbacks.History at 0x16eb36323a0>"
      ]
     },
     "execution_count": 54,
     "metadata": {},
     "output_type": "execute_result"
    }
   ],
   "source": [
    "model = Sequential()\n",
    "model.add(Dense(14, input_dim=X_train.shape[1], activation='tanh'))\n",
    "model.add(Dense(100, activation='tanh'))\n",
    "model.add(Dense(100, activation='tanh'))\n",
    "model.add(Dense(y_train.shape[1], activation='softmax'))\n",
    "\n",
    "model.compile(loss='categorical_crossentropy', optimizer=opt, \n",
    "              metrics=['accuracy'])\n",
    "\n",
    "model.fit(X_train, y_train, epochs=10, batch_size=10, \n",
    "          validation_data=(X_test, y_test))"
   ]
  },
  {
   "cell_type": "code",
   "execution_count": 52,
   "metadata": {},
   "outputs": [
    {
     "name": "stdout",
     "output_type": "stream",
     "text": [
      "Epoch 1/10\n",
      "5000/5000 [==============================] - 5s 909us/step - loss: 0.4894 - accuracy: 0.8611 - val_loss: 0.3000 - val_accuracy: 0.9128\n",
      "Epoch 2/10\n",
      "5000/5000 [==============================] - 5s 944us/step - loss: 0.2692 - accuracy: 0.9206 - val_loss: 0.2403 - val_accuracy: 0.9288\n",
      "Epoch 3/10\n",
      "5000/5000 [==============================] - 5s 901us/step - loss: 0.2275 - accuracy: 0.9328 - val_loss: 0.2249 - val_accuracy: 0.9363\n",
      "Epoch 4/10\n",
      "5000/5000 [==============================] - 5s 949us/step - loss: 0.2047 - accuracy: 0.9388 - val_loss: 0.2048 - val_accuracy: 0.9390\n",
      "Epoch 5/10\n",
      "5000/5000 [==============================] - 4s 871us/step - loss: 0.1874 - accuracy: 0.9442 - val_loss: 0.1966 - val_accuracy: 0.9417\n",
      "Epoch 6/10\n",
      "5000/5000 [==============================] - 4s 882us/step - loss: 0.1760 - accuracy: 0.9469 - val_loss: 0.1997 - val_accuracy: 0.9396\n",
      "Epoch 7/10\n",
      "5000/5000 [==============================] - 4s 832us/step - loss: 0.1655 - accuracy: 0.9500 - val_loss: 0.2014 - val_accuracy: 0.9421\n",
      "Epoch 8/10\n",
      "5000/5000 [==============================] - 4s 879us/step - loss: 0.1565 - accuracy: 0.9527 - val_loss: 0.1808 - val_accuracy: 0.9480\n",
      "Epoch 9/10\n",
      "5000/5000 [==============================] - 4s 811us/step - loss: 0.1492 - accuracy: 0.9549 - val_loss: 0.1782 - val_accuracy: 0.9473\n",
      "Epoch 10/10\n",
      "5000/5000 [==============================] - 4s 884us/step - loss: 0.1436 - accuracy: 0.9563 - val_loss: 0.1807 - val_accuracy: 0.9463\n"
     ]
    },
    {
     "data": {
      "text/plain": [
       "<tensorflow.python.keras.callbacks.History at 0x16ebc4bb100>"
      ]
     },
     "execution_count": 52,
     "metadata": {},
     "output_type": "execute_result"
    }
   ],
   "source": [
    "opt=tf.keras.optimizers.SGD(\n",
    "    learning_rate=0.01, momentum=0.0, nesterov=True, name=\"SGD\"\n",
    ")\n",
    "\n",
    "model = Sequential()\n",
    "model.add(Dense(14, input_dim=X_train.shape[1], activation='tanh'))\n",
    "model.add(Dense(100, activation='tanh'))\n",
    "model.add(Dense(100, activation='tanh'))\n",
    "model.add(Dense(y_train.shape[1], activation='softmax'))\n",
    "\n",
    "model.compile(loss='categorical_crossentropy', optimizer=opt, \n",
    "              metrics=['accuracy'])\n",
    "\n",
    "model.fit(X_train, y_train, epochs=10, batch_size=10, \n",
    "          validation_data=(X_test, y_test))"
   ]
  },
  {
   "cell_type": "code",
   "execution_count": 51,
   "metadata": {},
   "outputs": [
    {
     "name": "stdout",
     "output_type": "stream",
     "text": [
      "Epoch 1/10\n",
      "   1/5000 [..............................] - ETA: 0s - loss: 2.3159 - accuracy: 0.1000WARNING:tensorflow:Callbacks method `on_train_batch_end` is slow compared to the batch time (batch time: 0.0000s vs `on_train_batch_end` time: 0.0010s). Check your callbacks.\n",
      "5000/5000 [==============================] - 5s 987us/step - loss: 3.0909 - accuracy: 0.1951 - val_loss: 2.8454 - val_accuracy: 0.1522\n",
      "Epoch 2/10\n",
      "5000/5000 [==============================] - 5s 927us/step - loss: 3.2746 - accuracy: 0.1313 - val_loss: 3.5571 - val_accuracy: 0.1454\n",
      "Epoch 3/10\n",
      "5000/5000 [==============================] - 4s 873us/step - loss: 3.1244 - accuracy: 0.1339 - val_loss: 2.7903 - val_accuracy: 0.1317\n",
      "Epoch 4/10\n",
      "5000/5000 [==============================] - 5s 915us/step - loss: 3.6090 - accuracy: 0.1310 - val_loss: 3.4083 - val_accuracy: 0.1004\n",
      "Epoch 5/10\n",
      "5000/5000 [==============================] - 4s 880us/step - loss: 3.5755 - accuracy: 0.1322 - val_loss: 4.0521 - val_accuracy: 0.1507\n",
      "Epoch 6/10\n",
      "5000/5000 [==============================] - 4s 879us/step - loss: 3.7147 - accuracy: 0.1329 - val_loss: 2.9560 - val_accuracy: 0.1714\n",
      "Epoch 7/10\n",
      "5000/5000 [==============================] - 5s 922us/step - loss: 3.9294 - accuracy: 0.1325 - val_loss: 3.3448 - val_accuracy: 0.1314\n",
      "Epoch 8/10\n",
      "5000/5000 [==============================] - 5s 925us/step - loss: 3.9992 - accuracy: 0.1321 - val_loss: 4.7331 - val_accuracy: 0.1458\n",
      "Epoch 9/10\n",
      "5000/5000 [==============================] - 4s 813us/step - loss: 3.8996 - accuracy: 0.1312 - val_loss: 3.8908 - val_accuracy: 0.1710\n",
      "Epoch 10/10\n",
      "5000/5000 [==============================] - 4s 883us/step - loss: 4.2024 - accuracy: 0.1341 - val_loss: 4.0096 - val_accuracy: 0.1650\n"
     ]
    },
    {
     "data": {
      "text/plain": [
       "<tensorflow.python.keras.callbacks.History at 0x16ef14da3d0>"
      ]
     },
     "execution_count": 51,
     "metadata": {},
     "output_type": "execute_result"
    }
   ],
   "source": [
    "opt=tf.keras.optimizers.SGD(\n",
    "    learning_rate=0.01, momentum=1.0, nesterov=True, name=\"SGD\"\n",
    ")\n",
    "\n",
    "model = Sequential()\n",
    "model.add(Dense(14, input_dim=X_train.shape[1], activation='tanh'))\n",
    "model.add(Dense(100, activation='tanh'))\n",
    "model.add(Dense(100, activation='tanh'))\n",
    "model.add(Dense(y_train.shape[1], activation='softmax'))\n",
    "\n",
    "model.compile(loss='categorical_crossentropy', optimizer=opt, \n",
    "              metrics=['accuracy'])\n",
    "\n",
    "model.fit(X_train, y_train, epochs=10, batch_size=10, \n",
    "          validation_data=(X_test, y_test))"
   ]
  },
  {
   "cell_type": "code",
   "execution_count": 55,
   "metadata": {},
   "outputs": [
    {
     "name": "stdout",
     "output_type": "stream",
     "text": [
      "Epoch 1/10\n",
      "5000/5000 [==============================] - 5s 947us/step - loss: 0.4735 - accuracy: 0.8674 - val_loss: 0.2832 - val_accuracy: 0.9192\n",
      "Epoch 2/10\n",
      "5000/5000 [==============================] - 5s 963us/step - loss: 0.2537 - accuracy: 0.9251 - val_loss: 0.2270 - val_accuracy: 0.9334\n",
      "Epoch 3/10\n",
      "5000/5000 [==============================] - 5s 969us/step - loss: 0.2127 - accuracy: 0.9366 - val_loss: 0.2017 - val_accuracy: 0.9381\n",
      "Epoch 4/10\n",
      "5000/5000 [==============================] - 5s 934us/step - loss: 0.1896 - accuracy: 0.9428 - val_loss: 0.1938 - val_accuracy: 0.9393\n",
      "Epoch 5/10\n",
      "5000/5000 [==============================] - 5s 917us/step - loss: 0.1743 - accuracy: 0.9469 - val_loss: 0.1852 - val_accuracy: 0.9431\n",
      "Epoch 6/10\n",
      "5000/5000 [==============================] - 5s 935us/step - loss: 0.1615 - accuracy: 0.9517 - val_loss: 0.1759 - val_accuracy: 0.9455\n",
      "Epoch 7/10\n",
      "5000/5000 [==============================] - 5s 957us/step - loss: 0.1532 - accuracy: 0.9533 - val_loss: 0.1838 - val_accuracy: 0.9442\n",
      "Epoch 8/10\n",
      "5000/5000 [==============================] - 5s 959us/step - loss: 0.1458 - accuracy: 0.9562 - val_loss: 0.1726 - val_accuracy: 0.9468\n",
      "Epoch 9/10\n",
      "5000/5000 [==============================] - 4s 825us/step - loss: 0.1377 - accuracy: 0.9580 - val_loss: 0.1732 - val_accuracy: 0.9490\n",
      "Epoch 10/10\n",
      "5000/5000 [==============================] - 4s 886us/step - loss: 0.1336 - accuracy: 0.9599 - val_loss: 0.1668 - val_accuracy: 0.9493\n"
     ]
    },
    {
     "data": {
      "text/plain": [
       "<tensorflow.python.keras.callbacks.History at 0x16ee8457b80>"
      ]
     },
     "execution_count": 55,
     "metadata": {},
     "output_type": "execute_result"
    }
   ],
   "source": [
    "opt=tf.keras.optimizers.SGD(\n",
    "    learning_rate=0.01, momentum=0.1, nesterov=True, name=\"SGD\"\n",
    ")\n",
    "\n",
    "model = Sequential()\n",
    "model.add(Dense(14, input_dim=X_train.shape[1], activation='tanh'))\n",
    "model.add(Dense(100, activation='tanh'))\n",
    "model.add(Dense(100, activation='tanh'))\n",
    "model.add(Dense(y_train.shape[1], activation='softmax'))\n",
    "\n",
    "model.compile(loss='categorical_crossentropy', optimizer=opt, \n",
    "              metrics=['accuracy'])\n",
    "\n",
    "model.fit(X_train, y_train, epochs=10, batch_size=10, \n",
    "          validation_data=(X_test, y_test))"
   ]
  },
  {
   "cell_type": "code",
   "execution_count": 57,
   "metadata": {},
   "outputs": [
    {
     "name": "stdout",
     "output_type": "stream",
     "text": [
      "Epoch 1/10\n",
      "5000/5000 [==============================] - 5s 902us/step - loss: 0.4775 - accuracy: 0.8637 - val_loss: 0.2775 - val_accuracy: 0.9181\n",
      "Epoch 2/10\n",
      "5000/5000 [==============================] - 5s 914us/step - loss: 0.2553 - accuracy: 0.9250 - val_loss: 0.2239 - val_accuracy: 0.9327\n",
      "Epoch 3/10\n",
      "5000/5000 [==============================] - 4s 890us/step - loss: 0.2160 - accuracy: 0.9354 - val_loss: 0.2089 - val_accuracy: 0.9379\n",
      "Epoch 4/10\n",
      "5000/5000 [==============================] - 5s 914us/step - loss: 0.1950 - accuracy: 0.9411 - val_loss: 0.1957 - val_accuracy: 0.9394\n",
      "Epoch 5/10\n",
      "5000/5000 [==============================] - 5s 926us/step - loss: 0.1794 - accuracy: 0.9461 - val_loss: 0.1911 - val_accuracy: 0.9428\n",
      "Epoch 6/10\n",
      "5000/5000 [==============================] - 4s 889us/step - loss: 0.1674 - accuracy: 0.9485 - val_loss: 0.1944 - val_accuracy: 0.9417\n",
      "Epoch 7/10\n",
      "5000/5000 [==============================] - 5s 901us/step - loss: 0.1591 - accuracy: 0.9518 - val_loss: 0.1862 - val_accuracy: 0.9447\n",
      "Epoch 8/10\n",
      "5000/5000 [==============================] - 5s 931us/step - loss: 0.1514 - accuracy: 0.9537 - val_loss: 0.1665 - val_accuracy: 0.9493\n",
      "Epoch 9/10\n",
      "5000/5000 [==============================] - 5s 907us/step - loss: 0.1452 - accuracy: 0.9556 - val_loss: 0.1682 - val_accuracy: 0.9485\n",
      "Epoch 10/10\n",
      "5000/5000 [==============================] - 5s 918us/step - loss: 0.1374 - accuracy: 0.9580 - val_loss: 0.1680 - val_accuracy: 0.9476\n"
     ]
    },
    {
     "data": {
      "text/plain": [
       "<tensorflow.python.keras.callbacks.History at 0x16ee9bbbac0>"
      ]
     },
     "execution_count": 57,
     "metadata": {},
     "output_type": "execute_result"
    }
   ],
   "source": [
    "opt=tf.keras.optimizers.SGD(\n",
    "    learning_rate=0.01, momentum=0.1, nesterov=False, name=\"SGD\"\n",
    ")\n",
    "\n",
    "model = Sequential()\n",
    "model.add(Dense(14, input_dim=X_train.shape[1], activation='tanh'))\n",
    "model.add(Dense(100, activation='tanh'))\n",
    "model.add(Dense(100, activation='tanh'))\n",
    "model.add(Dense(y_train.shape[1], activation='softmax'))\n",
    "\n",
    "model.compile(loss='categorical_crossentropy', optimizer=opt, \n",
    "              metrics=['accuracy'])\n",
    "\n",
    "model.fit(X_train, y_train, epochs=10, batch_size=10, \n",
    "          validation_data=(X_test, y_test))"
   ]
  },
  {
   "cell_type": "markdown",
   "metadata": {},
   "source": [
    "## Вывод:\n",
    "### Увеличение количества слоев и количества нейронов повышают качество, самой удобной функцией активации оказалась rely, tanh показал почти такие же результаты, sigmoid значительно хуже. При изменении параметров SGD, установка слишком большого momentum значительно ухудшает качество, Nesterov сильно на качество не повлиял"
   ]
  },
  {
   "cell_type": "code",
   "execution_count": null,
   "metadata": {},
   "outputs": [],
   "source": []
  }
 ],
 "metadata": {
  "kernelspec": {
   "display_name": "Python 3",
   "language": "python",
   "name": "python3"
  },
  "language_info": {
   "codemirror_mode": {
    "name": "ipython",
    "version": 3
   },
   "file_extension": ".py",
   "mimetype": "text/x-python",
   "name": "python",
   "nbconvert_exporter": "python",
   "pygments_lexer": "ipython3",
   "version": "3.8.3"
  }
 },
 "nbformat": 4,
 "nbformat_minor": 2
}
